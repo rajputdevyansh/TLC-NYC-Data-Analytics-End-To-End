{
 "cells": [
  {
   "cell_type": "code",
   "execution_count": 1,
   "metadata": {},
   "outputs": [],
   "source": [
    "# Importing libraries\n",
    "import pandas as pd"
   ]
  },
  {
   "cell_type": "code",
   "execution_count": 2,
   "metadata": {},
   "outputs": [],
   "source": [
    "import pandas as pd\n",
    "\n",
    "def process_data(file_paths):\n",
    "    dataframes = []\n",
    "    for file_path in file_paths:\n",
    "        df = pd.read_parquet(file_path)  # Reading the parquet file as a dataframe\n",
    "        dataframes.append(df)  # Appending the dataframe to the list\n",
    "    \n",
    "    # Standardizing column names based on the first dataframe\n",
    "    col_names_std = dataframes[0].columns.tolist()\n",
    "    for df in dataframes:\n",
    "        df.columns = col_names_std\n",
    "    \n",
    "    # Printing size of the dataframes\n",
    "    for i, df in enumerate(dataframes):\n",
    "        print(f\"Shape of dataframe {i+1}: \", df.shape)\n",
    "    print(\"Total Size of all dataframes: \", sum([df.shape[0] for df in dataframes]))\n",
    "\n",
    "    # Concatenating the dataframes\n",
    "    combined_df = pd.concat(dataframes, ignore_index=True)\n",
    "    print(\"Shape of combined dataframe: \", combined_df.shape)\n",
    "    \n",
    "    return combined_df\n"
   ]
  },
  {
   "cell_type": "code",
   "execution_count": 3,
   "metadata": {},
   "outputs": [
    {
     "name": "stdout",
     "output_type": "stream",
     "text": [
      "Shape of dataframe 1:  (3066766, 19)\n",
      "Shape of dataframe 2:  (2913955, 19)\n",
      "Shape of dataframe 3:  (3403766, 19)\n",
      "Shape of dataframe 4:  (3288250, 19)\n",
      "Shape of dataframe 5:  (3513649, 19)\n",
      "Shape of dataframe 6:  (3307234, 19)\n",
      "Total Size of all dataframes:  19493620\n",
      "Shape of combined dataframe:  (19493620, 19)\n"
     ]
    }
   ],
   "source": [
    "# Reading the parquet files\n",
    "file_paths = ['https://storage.googleapis.com/tlc-nyc-data-analytics/y2023/yellow_tripdata_2023-01.parquet',\n",
    "              'https://storage.googleapis.com/tlc-nyc-data-analytics/y2023/yellow_tripdata_2023-02.parquet',\n",
    "              'https://storage.googleapis.com/tlc-nyc-data-analytics/y2023/yellow_tripdata_2023-03.parquet',\n",
    "              'https://storage.googleapis.com/tlc-nyc-data-analytics/y2023/yellow_tripdata_2023-04.parquet',\n",
    "              'https://storage.googleapis.com/tlc-nyc-data-analytics/y2023/yellow_tripdata_2023-05.parquet',\n",
    "              'https://storage.googleapis.com/tlc-nyc-data-analytics/y2023/yellow_tripdata_2023-06.parquet',\n",
    "              'https://storage.googleapis.com/tlc-nyc-data-analytics/y2023/yellow_tripdata_2023-07.parquet',\n",
    "              ]\n",
    "yellow_tripdata_2023 = process_data(file_paths)"
   ]
  },
  {
   "cell_type": "code",
   "execution_count": null,
   "metadata": {},
   "outputs": [],
   "source": [
    "# Checking for null values\n",
    "nan_in_each_column = yellow_tripdata_2023.isna().sum()\n",
    "print(nan_in_each_column)"
   ]
  },
  {
   "cell_type": "code",
   "execution_count": null,
   "metadata": {},
   "outputs": [],
   "source": [
    "# Filling null values\n",
    "yellow_tripdata_2023['congestion_surcharge'] = yellow_tripdata_2023['congestion_surcharge'].fillna(0)\n",
    "yellow_tripdata_2023['airport_fee'] = yellow_tripdata_2023['airport_fee'].fillna(0)\n",
    "yellow_tripdata_2023['passenger_count'] = yellow_tripdata_2023['passenger_count'].fillna(0)\n",
    "yellow_tripdata_2023['RatecodeID'] = yellow_tripdata_2023['RatecodeID'].fillna(1.0)\n",
    "yellow_tripdata_2023['store_and_fwd_flag'] = yellow_tripdata_2023['store_and_fwd_flag'].fillna('N')"
   ]
  },
  {
   "cell_type": "code",
   "execution_count": null,
   "metadata": {},
   "outputs": [],
   "source": [
    "# Checking for null values again\n",
    "nan_in_each_column = yellow_tripdata_2023.isna().sum()\n",
    "print(nan_in_each_column)"
   ]
  },
  {
   "cell_type": "code",
   "execution_count": null,
   "metadata": {},
   "outputs": [],
   "source": [
    "# Checking datatypes\n",
    "yellow_tripdata_2023.dtypes"
   ]
  },
  {
   "cell_type": "code",
   "execution_count": null,
   "metadata": {},
   "outputs": [],
   "source": [
    "# Converting datatypes\n",
    "yellow_tripdata_2023['passenger_count'] = yellow_tripdata_2023['passenger_count'].astype('int64')\n",
    "yellow_tripdata_2023['RatecodeID'] = yellow_tripdata_2023['RatecodeID'].astype('int64')\n",
    "yellow_tripdata_2023['store_and_fwd_flag'] = yellow_tripdata_2023['store_and_fwd_flag'].astype(str)"
   ]
  },
  {
   "cell_type": "code",
   "execution_count": null,
   "metadata": {},
   "outputs": [],
   "source": [
    "# Checking datatypes again\n",
    "yellow_tripdata_2023.dtypes"
   ]
  },
  {
   "cell_type": "code",
   "execution_count": null,
   "metadata": {},
   "outputs": [],
   "source": [
    "# Checking for invalid values\n",
    "mask1 = ~yellow_tripdata_2023['VendorID'].isin([1, 2]) # Check 'VendorID' column contains values other than 1 and 2\n",
    "mask2 = ~yellow_tripdata_2023['RatecodeID'].isin([1, 2, 3, 4, 5, 6]) # Check 'RatecodeID' column contains values other than 1, 2, 3, 4, 5, and 6\n",
    "mask3 = ~yellow_tripdata_2023['store_and_fwd_flag'].isin(['Y', 'N']) # Check if 'store_and_fwd_flag' column contains values other than 'Y' and 'N'\n",
    "mask4 = ~yellow_tripdata_2023['payment_type'].isin([1, 2, 3, 4, 5, 6]) # Check if 'payment_type' column contains values other than 1, 2, 3, 4, 5, and 6\n",
    "print(mask1.sum())\n",
    "print(mask2.sum())\n",
    "print(mask3.sum())\n",
    "print(mask4.sum())"
   ]
  },
  {
   "cell_type": "code",
   "execution_count": null,
   "metadata": {},
   "outputs": [],
   "source": [
    "# Dropping invalid values for VendorID\n",
    "yellow_tripdata_2023 = yellow_tripdata_2023.drop(yellow_tripdata_2023[mask1].index)"
   ]
  },
  {
   "cell_type": "code",
   "execution_count": null,
   "metadata": {},
   "outputs": [],
   "source": [
    "# Replace the values in RatecodeID column with 1 if they are invalid\n",
    "yellow_tripdata_2023.loc[mask2, 'RatecodeID'] = 1"
   ]
  },
  {
   "cell_type": "code",
   "execution_count": null,
   "metadata": {},
   "outputs": [],
   "source": [
    "# Replace the values in payment_type column with 5 if they are invalid\n",
    "yellow_tripdata_2023.loc[mask4, 'payment_type'] = 5"
   ]
  },
  {
   "cell_type": "code",
   "execution_count": null,
   "metadata": {},
   "outputs": [],
   "source": [
    "# Checking for invalid values again\n",
    "mask1 = ~yellow_tripdata_2023['VendorID'].isin([1, 2]) # Check 'VendorID' column contains values other than 1 and 2\n",
    "mask2 = ~yellow_tripdata_2023['RatecodeID'].isin([1, 2, 3, 4, 5, 6]) # Check 'RatecodeID' column contains values other than 1, 2, 3, 4, 5, and 6\n",
    "mask3 = ~yellow_tripdata_2023['store_and_fwd_flag'].isin(['Y', 'N']) # Check if 'store_and_fwd_flag' column contains values other than 'Y' and 'N'\n",
    "mask4 = ~yellow_tripdata_2023['payment_type'].isin([1, 2, 3, 4, 5, 6]) # Check if 'payment_type' column contains values other than 1, 2, 3, 4, 5, and 6\n",
    "print(mask1.sum())\n",
    "print(mask2.sum())\n",
    "print(mask3.sum())\n",
    "print(mask4.sum())"
   ]
  },
  {
   "cell_type": "code",
   "execution_count": null,
   "metadata": {},
   "outputs": [],
   "source": [
    "# Total no. of rows after dropping invalid values\n",
    "yellow_tripdata_2023.shape[0]"
   ]
  },
  {
   "cell_type": "code",
   "execution_count": null,
   "metadata": {},
   "outputs": [],
   "source": [
    "# Shorting the dataframe removing some random data to reduce the size\n",
    "# \n",
    "print(\"Size before: \",yellow_tripdata_2023.shape[0])\n",
    "n = 9488525\n",
    "if n < len(yellow_tripdata_2023):\n",
    "    drop_indices = yellow_tripdata_2023.sample(n, random_state=42).index\n",
    "    yellow_tripdata_2023 = yellow_tripdata_2023.drop(drop_indices)\n",
    "else:\n",
    "    print(f\"Your DataFrame has only {len(yellow_tripdata_2023)} rows. Can't drop {n} rows.\")\n",
    "print(\"Size After: \",yellow_tripdata_2023.shape[0])"
   ]
  },
  {
   "cell_type": "code",
   "execution_count": null,
   "metadata": {},
   "outputs": [],
   "source": [
    "# Dropping duplicates\n",
    "print(\"Size before: \",yellow_tripdata_2023.shape[0])\n",
    "yellow_tripdata_2023 = yellow_tripdata_2023.drop_duplicates().reset_index(drop=True)\n",
    "print(\"Size After: \",yellow_tripdata_2023.shape[0])"
   ]
  },
  {
   "cell_type": "code",
   "execution_count": null,
   "metadata": {},
   "outputs": [],
   "source": [
    "# Viewing info of the dataframe\n",
    "yellow_tripdata_2023.info()"
   ]
  },
  {
   "cell_type": "code",
   "execution_count": null,
   "metadata": {},
   "outputs": [],
   "source": [
    "# Viewing description of the dataframe\n",
    "yellow_tripdata_2023.describe()"
   ]
  },
  {
   "cell_type": "code",
   "execution_count": null,
   "metadata": {},
   "outputs": [],
   "source": [
    "# Viewing the dataframe after preprocessing\n",
    "yellow_tripdata_2023.head(10)"
   ]
  },
  {
   "cell_type": "code",
   "execution_count": null,
   "metadata": {},
   "outputs": [],
   "source": [
    "# Viewing the dataframe after preprocessing\n",
    "yellow_tripdata_2023.tail(10)"
   ]
  },
  {
   "cell_type": "code",
   "execution_count": null,
   "metadata": {},
   "outputs": [],
   "source": [
    "# Writing the dataframe to a parquet file\n",
    "yellow_tripdata_2023.to_parquet('D:\\TLC-NYC-Data-Analytics-End-To-End\\env\\Data\\yellow_tripdata_2023.parquet.gzip', compression='gzip')"
   ]
  }
 ],
 "metadata": {
  "kernelspec": {
   "display_name": "env",
   "language": "python",
   "name": "python3"
  },
  "language_info": {
   "codemirror_mode": {
    "name": "ipython",
    "version": 3
   },
   "file_extension": ".py",
   "mimetype": "text/x-python",
   "name": "python",
   "nbconvert_exporter": "python",
   "pygments_lexer": "ipython3",
   "version": "3.11.5"
  }
 },
 "nbformat": 4,
 "nbformat_minor": 2
}
